{
 "cells": [
  {
   "cell_type": "code",
   "execution_count": null,
   "id": "721c011b-6e49-4a90-b846-a2f38558b1fc",
   "metadata": {},
   "outputs": [],
   "source": [
    "cd .."
   ]
  },
  {
   "cell_type": "code",
   "execution_count": null,
   "id": "512ab7ac-4e82-4a1b-b71f-151609397570",
   "metadata": {},
   "outputs": [],
   "source": [
    "import pathlib\n",
    "import json\n",
    "import numpy as np\n",
    "import pandas as pd\n",
    "import torch\n",
    "import gym\n",
    "import matplotlib.pyplot as plt\n",
    "\n",
    "import seqnn\n",
    "from seqnn import SeqNN, SeqNNConfig\n",
    "from seqnn.gymutils.logger import Logger\n",
    "from seqnn.utils import get_data_sample\n",
    "from seqnn.analysis import plot_prediction\n",
    "\n",
    "%load_ext autoreload\n",
    "%autoreload 2\n"
   ]
  },
  {
   "cell_type": "code",
   "execution_count": null,
   "id": "b0e5f7e4-6dce-41ca-8bbf-5f934fef903e",
   "metadata": {},
   "outputs": [],
   "source": []
  },
  {
   "cell_type": "markdown",
   "id": "c6b78cef-bc61-4736-9b97-0c127b5131cf",
   "metadata": {},
   "source": [
    "# Load some data"
   ]
  },
  {
   "cell_type": "code",
   "execution_count": null,
   "id": "0dce1583-aff5-4eca-a613-019dad70ece1",
   "metadata": {},
   "outputs": [],
   "source": [
    "#envname = 'CartPole-v1'\n",
    "envname = 'LunarLander-v2'\n",
    "#envname = 'Acrobot-v1'\n",
    "env = gym.make(envname)\n",
    "\n",
    "dfs = []\n",
    "for path in Logger.find_all_files(f'data/gym/{envname}/', '.json'):\n",
    "    df = Logger.load_episode_as_df(path)\n",
    "    dfs.append(df)\n",
    "\n",
    "np.random.seed(3429)\n",
    "valid_idx = np.random.choice(len(dfs), 5, replace=False)\n",
    "\n",
    "dfs_train = [df for i, df in enumerate(dfs) if i not in valid_idx]\n",
    "dfs_valid = [df for i, df in enumerate(dfs) if i in valid_idx]"
   ]
  },
  {
   "cell_type": "code",
   "execution_count": null,
   "id": "d7a52177-71d1-4247-9f76-3d9313a1a32b",
   "metadata": {},
   "outputs": [],
   "source": [
    "len(dfs_train), len(dfs_valid)"
   ]
  },
  {
   "cell_type": "code",
   "execution_count": null,
   "id": "00380b5d-3099-414c-bb86-6ac866af7d9b",
   "metadata": {},
   "outputs": [],
   "source": []
  },
  {
   "cell_type": "code",
   "execution_count": null,
   "id": "71b9c455-7325-47a1-8b8d-42f3bb087e75",
   "metadata": {},
   "outputs": [],
   "source": []
  },
  {
   "cell_type": "code",
   "execution_count": null,
   "id": "ffb0aea5-dfe3-4c3b-888d-a7aca9203071",
   "metadata": {},
   "outputs": [],
   "source": []
  },
  {
   "cell_type": "code",
   "execution_count": null,
   "id": "4ab40d4b-0930-4d88-9542-621f8aa79122",
   "metadata": {},
   "outputs": [],
   "source": []
  },
  {
   "cell_type": "markdown",
   "id": "c93e1108-b8dd-4f92-a1b5-94851b95b8bc",
   "metadata": {},
   "source": [
    "# Train a model"
   ]
  },
  {
   "cell_type": "code",
   "execution_count": null,
   "id": "7ede94c1-eb5b-4e03-a695-4389adadae6f",
   "metadata": {},
   "outputs": [],
   "source": [
    "config = SeqNNConfig(\n",
    "    targets={\"obs\": [\"obs0\", \"obs1\", \"obs2\", \"obs3\"]},\n",
    "    controls={\"act\": [\"act0\"]},\n",
    "    horizon_past=3,\n",
    "    horizon_future=5,\n",
    "    optimizer=\"SGD\",\n",
    "    optimizer_args={\"lr\": 0.001, \"momentum\": 0.9},\n",
    "    lr_scheduler_args={\"gamma\": 0.5, \"step_size\": 2000},\n",
    "    max_grad_norm=30,\n",
    ")\n",
    "\n",
    "\n",
    "model = SeqNN(config)\n",
    "\n"
   ]
  },
  {
   "cell_type": "code",
   "execution_count": null,
   "id": "051f2d5d-a9aa-49d8-ab1c-b44a993dd985",
   "metadata": {},
   "outputs": [],
   "source": [
    "model.train(dfs_train, dfs_valid, max_epochs=300, progressbar=False)"
   ]
  },
  {
   "cell_type": "code",
   "execution_count": null,
   "id": "e0a17ea1-d21a-49b4-983b-c3d90f1ce8fa",
   "metadata": {},
   "outputs": [],
   "source": [
    "#model.save('models/cartpole/model1')"
   ]
  },
  {
   "cell_type": "markdown",
   "id": "450cc1e8-a275-4ba1-bac1-6517954575c0",
   "metadata": {},
   "source": [
    "# Assess fitted model "
   ]
  },
  {
   "cell_type": "markdown",
   "id": "c29ce167-fcf3-4c6e-9cc1-14af8e81ab12",
   "metadata": {},
   "source": [
    "## Load model"
   ]
  },
  {
   "cell_type": "code",
   "execution_count": null,
   "id": "dfadefef-717c-400f-8430-91498269a2b7",
   "metadata": {},
   "outputs": [],
   "source": [
    "# load model\n",
    "\n",
    "#path = f'models/gym/{envname}/model_old1'\n",
    "path = f'models/gym/{envname}/model4'\n",
    "model = seqnn.load(path)\n",
    "\n",
    "\n",
    "# load data\n",
    "validset = model.get_dataset(dfs_valid)"
   ]
  },
  {
   "cell_type": "markdown",
   "id": "df89f7b6-16c2-4774-9583-d105b03cfae0",
   "metadata": {},
   "source": [
    "## Plot prediction"
   ]
  },
  {
   "cell_type": "code",
   "execution_count": null,
   "id": "8df0f741-3806-48ce-81a9-af03297899ce",
   "metadata": {},
   "outputs": [],
   "source": [
    "lims = {\n",
    "    f'obs{i}': (1.05*env.observation_space.low[i], 1.05*env.observation_space.high[i]) \n",
    "    for i in range(env.observation_space.shape[0])\n",
    "}"
   ]
  },
  {
   "cell_type": "code",
   "execution_count": null,
   "id": "7b6164ea-953b-4683-a7a4-709499b487bf",
   "metadata": {},
   "outputs": [],
   "source": [
    "\n",
    "i = np.random.choice(len(validset))\n",
    "#i = 9\n",
    "\n",
    "\n",
    "\n",
    "past, future = get_data_sample(validset, indices=i)\n",
    "plot_prediction(\n",
    "    model,\n",
    "    past,\n",
    "    future, \n",
    "    tags_pred=model.config.task.grouping[model.config.task.targets[0]],\n",
    "    tags_control=['act0'],\n",
    "    #lims=lims,\n",
    "    ncols=3,\n",
    ")"
   ]
  },
  {
   "cell_type": "code",
   "execution_count": null,
   "id": "5e03416b-62a9-4e99-af8b-f18acd44fdf0",
   "metadata": {},
   "outputs": [],
   "source": []
  },
  {
   "cell_type": "code",
   "execution_count": null,
   "id": "0b23a1af-12ec-46b5-bb5f-6d7e91aed604",
   "metadata": {},
   "outputs": [],
   "source": []
  },
  {
   "cell_type": "markdown",
   "id": "4838fc5d-3160-4fe9-b482-aaa16b20f1b6",
   "metadata": {},
   "source": [
    "# Plan optimization"
   ]
  },
  {
   "cell_type": "code",
   "execution_count": null,
   "id": "c19602af-6e33-4908-b01e-a7c15bcf220a",
   "metadata": {},
   "outputs": [],
   "source": [
    "from seqnn.control.loss import Setpoint\n",
    "from seqnn.control.planner import CategoricalCEMPlanner"
   ]
  },
  {
   "cell_type": "code",
   "execution_count": null,
   "id": "66bb4955-e310-4fba-8749-e94ca0b112b6",
   "metadata": {},
   "outputs": [],
   "source": [
    "\n",
    "#i = np.random.choice(len(validset))\n",
    "i = 10\n",
    "past, future = get_data_sample(validset, indices=i)\n",
    "\n",
    "\n",
    "task = model.config.task\n",
    "tags_to_optimize = ['act0']\n",
    "\n",
    "plan = {\n",
    "    group: torch.zeros(1, 5, len(task.grouping[group]))\n",
    "    for group in task.controls_cat\n",
    "}\n",
    "print(plan)\n",
    "num_categ = {tag: task.num_categories[tag] for tag in tags_to_optimize}\n",
    "plan_loss = Setpoint(\n",
    "            reference={\"obs0\": 0.0, \"obs1\": 0.0, \"obs2\": 0.0, \"obs3\": 0.0},\n",
    "            weights={\"obs0\": 0.1, \"obs1\": 1.0},\n",
    "            end_only=True,\n",
    "        )\n",
    "planner = CategoricalCEMPlanner(\n",
    "    model, plan_loss, past, plan, num_categ\n",
    ")\n",
    "\n",
    "for _ in range(15):\n",
    "    planner.step()\n",
    "print(plan)\n",
    "\n",
    "\n",
    "future['act0'][:] = plan['act0']\n",
    "plot_prediction(\n",
    "    model,\n",
    "    past,\n",
    "    future, \n",
    "    tags_pred=model.config.task.grouping[model.config.task.targets[0]],\n",
    "    tags_control=['act0'],\n",
    "    #lims=lims,\n",
    "    ncols=3,\n",
    ")"
   ]
  },
  {
   "cell_type": "code",
   "execution_count": null,
   "id": "abfc4aed-07f5-47bc-8215-0068a9226c23",
   "metadata": {},
   "outputs": [],
   "source": []
  },
  {
   "cell_type": "markdown",
   "id": "070665f4-0bd6-492b-8ea3-d2ed6e107785",
   "metadata": {},
   "source": [
    "# Test scaler "
   ]
  },
  {
   "cell_type": "code",
   "execution_count": null,
   "id": "fcd1da01-05be-4f03-9518-3f0a77840a46",
   "metadata": {},
   "outputs": [],
   "source": [
    "past, future = get_data_sample(validset, indices=0)\n",
    "\n",
    "past_scaled, future_scaled = model.model.to_scaled(past, future)\n",
    "past_recons, future_recons = model.model.to_native(past_scaled, future_scaled)"
   ]
  },
  {
   "cell_type": "code",
   "execution_count": null,
   "id": "d626c2ec-ec79-40ba-af9e-d0711bc729c1",
   "metadata": {},
   "outputs": [],
   "source": [
    "past"
   ]
  },
  {
   "cell_type": "code",
   "execution_count": null,
   "id": "b23f8eaf-6b9b-42a9-9424-2af268174ae1",
   "metadata": {},
   "outputs": [],
   "source": [
    "past_recons"
   ]
  },
  {
   "cell_type": "code",
   "execution_count": null,
   "id": "09950e98-1f9e-4db0-9aab-7fed7f1add75",
   "metadata": {},
   "outputs": [],
   "source": [
    "future"
   ]
  },
  {
   "cell_type": "code",
   "execution_count": null,
   "id": "1e83fdde-6d12-4159-a8ad-0b052b996907",
   "metadata": {},
   "outputs": [],
   "source": [
    "future_recons"
   ]
  },
  {
   "cell_type": "code",
   "execution_count": null,
   "id": "d50803a4-0848-42fe-8a32-220c330f49c5",
   "metadata": {},
   "outputs": [],
   "source": [
    "model.predict(past, future)"
   ]
  },
  {
   "cell_type": "code",
   "execution_count": null,
   "id": "a436c646-6d6d-4365-a63a-c10bfdb378bf",
   "metadata": {},
   "outputs": [],
   "source": [
    "past_scaled"
   ]
  },
  {
   "cell_type": "code",
   "execution_count": null,
   "id": "12543736-be84-403f-98af-60ba0b5a9142",
   "metadata": {},
   "outputs": [],
   "source": [
    "future"
   ]
  },
  {
   "cell_type": "code",
   "execution_count": null,
   "id": "2e4732c7-67a3-4c4e-8e85-3373c57a6480",
   "metadata": {},
   "outputs": [],
   "source": [
    "future_scaled"
   ]
  },
  {
   "cell_type": "markdown",
   "id": "3163f575-ca2f-46af-9833-d747f63f13b8",
   "metadata": {},
   "source": [
    "# Experiment with scaler"
   ]
  },
  {
   "cell_type": "code",
   "execution_count": null,
   "id": "7029c3bf-65c1-4ff3-ac11-682fc2d82f4a",
   "metadata": {},
   "outputs": [],
   "source": [
    "from seqnn.data.scalers import PastFutureScaler"
   ]
  },
  {
   "cell_type": "code",
   "execution_count": null,
   "id": "39f2bee9-67ab-4c3d-8e65-f3c6223e9a8b",
   "metadata": {},
   "outputs": [],
   "source": [
    "# load model\n",
    "\n",
    "path = f'models/gym/{envname}/model4'\n",
    "model = seqnn.load(path)\n",
    "\n",
    "\n",
    "# load data\n",
    "trainset = model.get_dataset(dfs_train)\n",
    "validset = model.get_dataset(dfs_valid)"
   ]
  },
  {
   "cell_type": "code",
   "execution_count": null,
   "id": "471c9c57-ea24-4198-bda0-b3aff76869f4",
   "metadata": {},
   "outputs": [],
   "source": []
  },
  {
   "cell_type": "code",
   "execution_count": null,
   "id": "63512697-ea5e-4f63-b75a-ed8d1fb87612",
   "metadata": {},
   "outputs": [],
   "source": [
    "trainset[0][0]['obs'].shape"
   ]
  },
  {
   "cell_type": "code",
   "execution_count": null,
   "id": "9e61a765-bf64-4a78-9c01-c0eefa86c4ed",
   "metadata": {},
   "outputs": [],
   "source": [
    "scaler = PastFutureScaler(4)"
   ]
  },
  {
   "cell_type": "code",
   "execution_count": null,
   "id": "0ed43898-c922-416a-8bf0-24734e546e91",
   "metadata": {},
   "outputs": [],
   "source": [
    "loader = model.data_to_loader(trainset, train=True)\n",
    "for past, future in loader:\n",
    "    break\n"
   ]
  },
  {
   "cell_type": "code",
   "execution_count": null,
   "id": "7921c38c-8f34-4b40-9989-e715b095a94e",
   "metadata": {},
   "outputs": [],
   "source": [
    "obs_past, obs_future = past['obs'], future['obs']\n",
    "\n",
    "# train\n",
    "scaler.update_stats(obs_past, obs_future)\n",
    "\n",
    "# scale\n",
    "obs_past_scaled, obs_future_scaled = scaler.to_scaled(obs_past, obs_future)"
   ]
  },
  {
   "cell_type": "code",
   "execution_count": null,
   "id": "c7fc75e9-d922-4480-9ae9-190c5bec8519",
   "metadata": {},
   "outputs": [],
   "source": [
    "obs_past2, obs_future2 = scaler.to_native(obs_past_scaled, obs_future_scaled)"
   ]
  },
  {
   "cell_type": "code",
   "execution_count": null,
   "id": "c2fb9528-9c65-4556-b676-eff08c680aad",
   "metadata": {},
   "outputs": [],
   "source": [
    "(obs_past - obs_past2).abs().max()"
   ]
  },
  {
   "cell_type": "code",
   "execution_count": null,
   "id": "58210fcb-a066-44a5-a7f9-a699081076d5",
   "metadata": {},
   "outputs": [],
   "source": [
    "(obs_future - obs_future2).abs().max()"
   ]
  },
  {
   "cell_type": "code",
   "execution_count": null,
   "id": "486a98c9-72ec-46f8-8b30-b5da8360d501",
   "metadata": {},
   "outputs": [],
   "source": [
    "j = 3\n",
    "#plt.plot(obs_past[:5,:,j].detach().transpose(0,1), '.-');\n",
    "plt.plot(obs_past_scaled[:3,:,j].detach().transpose(0,1), '.-');"
   ]
  },
  {
   "cell_type": "code",
   "execution_count": null,
   "id": "0f0402cd-d9b9-4dee-b4d4-c40bd7688623",
   "metadata": {},
   "outputs": [],
   "source": [
    "j = 1\n",
    "#plt.plot(obs_future[:3,:,j].detach().transpose(0,1), '.-');\n",
    "#plt.plot(obs_future2[:3,:,j].detach().transpose(0,1), '--');\n",
    "plt.plot(obs_future_scaled[:3,:,j].detach().transpose(0,1), '.-');"
   ]
  },
  {
   "cell_type": "code",
   "execution_count": null,
   "id": "d19c6103-a745-47f7-923f-f53d13129ae1",
   "metadata": {},
   "outputs": [],
   "source": []
  },
  {
   "cell_type": "code",
   "execution_count": null,
   "id": "2fac7943-f25e-499a-a3ef-15d63f689d2b",
   "metadata": {},
   "outputs": [],
   "source": []
  },
  {
   "cell_type": "code",
   "execution_count": null,
   "id": "1402adaf-cafa-476f-a885-5d4369754e73",
   "metadata": {},
   "outputs": [],
   "source": []
  },
  {
   "cell_type": "code",
   "execution_count": null,
   "id": "0aac4114-1367-4849-96d4-fc525b11839b",
   "metadata": {},
   "outputs": [],
   "source": []
  },
  {
   "cell_type": "code",
   "execution_count": null,
   "id": "71f657b2-129e-4d8f-b0cd-c0968b3ac2d4",
   "metadata": {},
   "outputs": [],
   "source": []
  },
  {
   "cell_type": "code",
   "execution_count": null,
   "id": "19f7a431-270e-4c9f-a1d2-394d54f01d3b",
   "metadata": {},
   "outputs": [],
   "source": []
  },
  {
   "cell_type": "code",
   "execution_count": null,
   "id": "3dddd5c1-f0e1-4bef-a1d7-9f1df7950e93",
   "metadata": {},
   "outputs": [],
   "source": []
  },
  {
   "cell_type": "code",
   "execution_count": null,
   "id": "e87a62c1-ad95-40d6-83b3-f35aec684c5f",
   "metadata": {},
   "outputs": [],
   "source": []
  }
 ],
 "metadata": {
  "kernelspec": {
   "display_name": "Python 3 (ipykernel)",
   "language": "python",
   "name": "python3"
  },
  "language_info": {
   "codemirror_mode": {
    "name": "ipython",
    "version": 3
   },
   "file_extension": ".py",
   "mimetype": "text/x-python",
   "name": "python",
   "nbconvert_exporter": "python",
   "pygments_lexer": "ipython3",
   "version": "3.9.0"
  }
 },
 "nbformat": 4,
 "nbformat_minor": 5
}
